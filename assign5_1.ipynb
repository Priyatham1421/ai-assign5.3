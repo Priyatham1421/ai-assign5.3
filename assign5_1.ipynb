{
  "nbformat": 4,
  "nbformat_minor": 0,
  "metadata": {
    "colab": {
      "provenance": [],
      "authorship_tag": "ABX9TyPdEteR3jAP2jKlVd/SsBKl",
      "include_colab_link": true
    },
    "kernelspec": {
      "name": "python3",
      "display_name": "Python 3"
    },
    "language_info": {
      "name": "python"
    }
  },
  "cells": [
    {
      "cell_type": "markdown",
      "metadata": {
        "id": "view-in-github",
        "colab_type": "text"
      },
      "source": [
        "<a href=\"https://colab.research.google.com/github/Priyatham1421/ai-assign5.3/blob/main/assign5_1.ipynb\" target=\"_parent\"><img src=\"https://colab.research.google.com/assets/colab-badge.svg\" alt=\"Open In Colab\"/></a>"
      ]
    },
    {
      "cell_type": "code",
      "execution_count": null,
      "metadata": {
        "id": "w4bVltn507yN"
      },
      "outputs": [],
      "source": [
        "Task Description #1 (Privacy in API Usage)\n",
        "Task: Use an AI tool to generate a Python program that connects to a\n",
        "weather API.\n",
        "Prompt:\n",
        "\"Generate code to fetch weather data securely without exposing API\n",
        "keys in the code.\"\n",
        "Expected Output:\n",
        "• Original AI code (check if keys are hardcoded).\n",
        "• Secure version using environment variables."
      ]
    },
    {
      "cell_type": "code",
      "metadata": {
        "colab": {
          "base_uri": "https://localhost:8080/"
        },
        "id": "1276ab0b",
        "outputId": "3246e08a-f465-46d4-8149-bfd2862f6a25"
      },
      "source": [
        "import requests\n",
        "import os\n",
        "\n",
        "# Replace with the actual environment variable name for your API key\n",
        "api_key = os.environ.get('WEATHER_API_KEY')\n",
        "\n",
        "if not api_key:\n",
        "    print(\"Error: WEATHER_API_KEY environment variable not set.\")\n",
        "else:\n",
        "    # Replace with the actual API endpoint and parameters\n",
        "    base_url = \"https://api.exampleweatherapi.com/v1/current\"\n",
        "    city = \"London\" # Example city\n",
        "\n",
        "    params = {\n",
        "        'q': city,\n",
        "        'appid': api_key,\n",
        "        # Add other parameters as required by the API\n",
        "    }\n",
        "\n",
        "    try:\n",
        "        response = requests.get(base_url, params=params)\n",
        "        response.raise_for_status() # Raise an HTTPError for bad responses (4xx or 5xx)\n",
        "\n",
        "        weather_data = response.json()\n",
        "        print(f\"Weather data for {city}:\")\n",
        "        print(weather_data)\n",
        "\n",
        "    except requests.exceptions.RequestException as e:\n",
        "        print(f\"Error fetching weather data: {e}\")"
      ],
      "execution_count": 1,
      "outputs": [
        {
          "output_type": "stream",
          "name": "stdout",
          "text": [
            "Error: WEATHER_API_KEY environment variable not set.\n"
          ]
        }
      ]
    },
    {
      "cell_type": "markdown",
      "source": [
        "EXPLAINATION:\n",
        "Set the WEATHER_API_KEY environment variable: You can do this in Colab's Secrets tab (the key icon on the left sidebar) or by using %env WEATHER_API_KEY='your_api_key' in a code cell (though the Secrets tab is more secure). Replace 'your_api_key' with your actual weather API key.\n",
        "Replace the placeholder API details: Update the base_url and any necessary parameters in the generated code (cell_id: 1276ab0b) to match the specific weather API you want to use.\n",
        "Run the code: Execute the cell (cell_id: 1276ab0b) again after setting the environment variable and updating the API details."
      ],
      "metadata": {
        "id": "hv5MnvAR1fYh"
      }
    },
    {
      "cell_type": "code",
      "source": [
        "Task Description #2 (Privacy & Security in File Handling)\n",
        "Task: Use an AI tool to generate a Python script that stores user data\n",
        "(name, email, password) in a file.\n",
        "Analyze: Check if the AI stores sensitive data in plain text or without\n",
        "encryption.\n",
        "Expected Output:\n",
        "• Identified privacy risks.\n",
        "• Revised version with encrypted password storage (e.g., hashing).\n"
      ],
      "metadata": {
        "id": "PGgd980R1k0K"
      },
      "execution_count": null,
      "outputs": []
    },
    {
      "cell_type": "code",
      "metadata": {
        "id": "5f5d1f5c"
      },
      "source": [
        "def store_user_data_plain_text(name, email, password, filename=\"user_data.txt\"):\n",
        "    \"\"\"\n",
        "    Stores user data (name, email, password) in a text file in plain text.\n",
        "\n",
        "    Args:\n",
        "        name (str): The user's name.\n",
        "        email (str): The user's email.\n",
        "        password (str): The user's password.\n",
        "        filename (str): The name of the file to store the data.\n",
        "    \"\"\"\n",
        "    try:\n",
        "        with open(filename, \"a\") as f:\n",
        "            f.write(f\"Name: {name}\\n\")\n",
        "            f.write(f\"Email: {email}\\n\")\n",
        "            f.write(f\"Password: {password}\\n\")\n",
        "            f.write(\"-\" * 20 + \"\\n\") # Separator for entries\n",
        "        print(f\"User data for {name} stored successfully in {filename}\")\n",
        "    except IOError as e:\n",
        "        print(f\"Error storing user data: {e}\")\n",
        "\n",
        "# Example usage:\n",
        "# store_user_data_plain_text(\"John Doe\", \"john.doe@example.com\", \"mysecretpassword123\")"
      ],
      "execution_count": 2,
      "outputs": []
    },
    {
      "cell_type": "markdown",
      "source": [
        "EXPLAINATION:\n",
        "Analyze the code for privacy risks: Examine the generated code (cell_id: 5f5d1f5c) to confirm that it stores the password in plain text, which is a significant privacy risk.\n",
        "Create a revised version with encrypted password storage: Modify the script to use a secure method like hashing (e.g., using the bcrypt or hashlib libraries) to store a hashed version of the password instead of the plain text password"
      ],
      "metadata": {
        "id": "4M0UQDF414fB"
      }
    },
    {
      "cell_type": "code",
      "source": [
        "Task Description #3 (Transparency in Algorithm Design)\n",
        "Objective: Use AI to generate an Armstrong number checking function\n",
        "with comments and explanations.\n",
        "Instructions:\n",
        "1. Ask AI to explain the code line-by-line.\n",
        "2. Compare the explanation with code functionality.\n",
        "Expected Output:\n",
        "• Transparent, commented code.\n",
        "• Correct, easy-to-understand explanation"
      ],
      "metadata": {
        "id": "eAAvvWYq1-ip"
      },
      "execution_count": null,
      "outputs": []
    },
    {
      "cell_type": "code",
      "metadata": {
        "id": "13c2a30c"
      },
      "source": [
        "def is_armstrong_number(number):\n",
        "    \"\"\"\n",
        "    Checks if a number is an Armstrong number.\n",
        "\n",
        "    An Armstrong number (also known as a narcissistic number,\n",
        "    plus perfect digital invariant (PPDI), or happy number)\n",
        "    is a number that is the sum of its own digits each raised to the\n",
        "    power of the number of digits.\n",
        "\n",
        "    Args:\n",
        "        number (int): The number to check.\n",
        "\n",
        "    Returns:\n",
        "        bool: True if the number is an Armstrong number, False otherwise.\n",
        "    \"\"\"\n",
        "    # Convert the number to a string to easily access its digits\n",
        "    num_str = str(number)\n",
        "    # Get the number of digits\n",
        "    num_digits = len(num_str)\n",
        "    # Initialize the sum of the powers of the digits\n",
        "    sum_of_powers = 0\n",
        "\n",
        "    # Iterate through each digit in the number string\n",
        "    for digit_char in num_str:\n",
        "        # Convert the digit character back to an integer\n",
        "        digit = int(digit_char)\n",
        "        # Add the digit raised to the power of the number of digits to the sum\n",
        "        sum_of_powers += digit ** num_digits\n",
        "\n",
        "    # Check if the original number is equal to the sum of the powers of its digits\n",
        "    return number == sum_of_powers\n",
        "\n",
        "# Example usage:\n",
        "# print(is_armstrong_number(153))  # Output: True\n",
        "# print(is_armstrong_number(123))  # Output: False"
      ],
      "execution_count": 3,
      "outputs": []
    },
    {
      "cell_type": "code",
      "source": [
        "Task Description #4 (Transparency in Algorithm Comparison)\n",
        "Task: Use AI to implement two sorting algorithms (e.g., QuickSort and\n",
        "BubbleSort).\n",
        "Prompt:\n",
        "\"Generate Python code for QuickSort and BubbleSort, and include\n",
        "comments explaining step-by-step how each works and where they\n",
        "differ.\"\n",
        "Expected Output:\n",
        "• Code for both algorithms.\n",
        "• Transparent, comparative explanation of their logic and\n",
        "efficiency.\n",
        "\n"
      ],
      "metadata": {
        "id": "OQNHKVfU2t4c"
      },
      "execution_count": null,
      "outputs": []
    },
    {
      "cell_type": "code",
      "metadata": {
        "id": "6976ddb9"
      },
      "source": [
        "def bubble_sort(arr):\n",
        "    \"\"\"\n",
        "    Sorts a list using the Bubble Sort algorithm.\n",
        "\n",
        "    Bubble Sort is a simple sorting algorithm that repeatedly steps through\n",
        "    the list, compares adjacent elements and swaps them if they are in the\n",
        "    wrong order. The pass through the list is repeated until the list is sorted.\n",
        "\n",
        "    Args:\n",
        "        arr (list): The list of elements to sort.\n",
        "\n",
        "    Returns:\n",
        "        list: The sorted list.\n",
        "    \"\"\"\n",
        "    n = len(arr)\n",
        "    # Traverse through all array elements\n",
        "    for i in range(n):\n",
        "        # Last i elements are already in place\n",
        "        for j in range(0, n - i - 1):\n",
        "            # Traverse the array from 0 to n-i-1\n",
        "            # Swap if the element found is greater than the next element\n",
        "            if arr[j] > arr[j + 1]:\n",
        "                arr[j], arr[j + 1] = arr[j + 1], arr[j]\n",
        "    return arr\n",
        "\n",
        "def quick_sort(arr):\n",
        "    \"\"\"\n",
        "    Sorts a list using the QuickSort algorithm.\n",
        "\n",
        "    QuickSort is a divide-and-conquer algorithm. It works by selecting a\n",
        "    'pivot' element from the array and partitioning the other elements\n",
        "    into two sub-arrays, according to whether they are less than or\n",
        "    greater than the pivot. The sub-arrays are then recursively sorted.\n",
        "\n",
        "    Args:\n",
        "        arr (list): The list of elements to sort.\n",
        "\n",
        "    Returns:\n",
        "        list: The sorted list.\n",
        "    \"\"\"\n",
        "    if len(arr) <= 1:\n",
        "        return arr\n",
        "\n",
        "    # Choosing the pivot (here, the last element)\n",
        "    pivot = arr[-1]\n",
        "    # Partitioning the array into elements less than, equal to, and greater than the pivot\n",
        "    left = [x for x in arr[:-1] if x <= pivot]\n",
        "    right = [x for x in arr[:-1] if x > pivot]\n",
        "\n",
        "    # Recursively sort the left and right sub-arrays and combine with the pivot\n",
        "    return quick_sort(left) + [pivot] + quick_sort(right)\n",
        "\n",
        "# Example usage:\n",
        "# my_list = [64, 34, 25, 12, 22, 11, 90]\n",
        "# print(\"Original list:\", my_list)\n",
        "# print(\"Bubble Sorted list:\", bubble_sort(my_list.copy())) # Use copy to keep original list\n",
        "# print(\"Quick Sorted list:\", quick_sort(my_list.copy()))   # Use copy to keep original list\n",
        "\n",
        "# Differences in logic and efficiency:\n",
        "# Bubble Sort:\n",
        "# - Simple comparison and swapping of adjacent elements.\n",
        "# - Repeatedly passes through the list.\n",
        "# - Time Complexity: O(n^2) in the worst and average cases, O(n) in the best case (already sorted).\n",
        "# - Generally less efficient for large datasets.\n",
        "\n",
        "# QuickSort:\n",
        "# - Divide-and-conquer approach using a pivot.\n",
        "# - Recursively sorts sub-arrays.\n",
        "# - Time Complexity: O(n log n) on average, O(n^2) in the worst case (poor pivot selection).\n",
        "# - Generally more efficient for large datasets than Bubble Sort."
      ],
      "execution_count": 4,
      "outputs": []
    },
    {
      "cell_type": "code",
      "source": [
        "ask Description #5 (Transparency in AI Recommendations)\n",
        "Task: Use AI to create a product recommendation system.\n",
        "Prompt:\n",
        "\"Generate a recommendation system that also provides reasons for\n",
        "each suggestion.\"\n",
        "Expected Output:\n",
        "• Code with explainable recommendations.\n",
        "• Evaluation of whether explanations are understandable."
      ],
      "metadata": {
        "id": "8FQ5B5UP3KaB"
      },
      "execution_count": null,
      "outputs": []
    },
    {
      "cell_type": "code",
      "metadata": {
        "colab": {
          "base_uri": "https://localhost:8080/"
        },
        "id": "5e7a183b",
        "outputId": "a16dd8b5-e5f1-40da-bcf5-c5a2dcc1370a"
      },
      "source": [
        "import pandas as pd\n",
        "from sklearn.metrics.pairwise import cosine_similarity\n",
        "from sklearn.preprocessing import MinMaxScaler\n",
        "\n",
        "def get_recommendations(user_id, interaction_matrix, items_df, num_recommendations=5):\n",
        "    \"\"\"\n",
        "    Generates product recommendations for a given user based on user-item interactions.\n",
        "\n",
        "    Args:\n",
        "        user_id (int): The ID of the user for whom to generate recommendations.\n",
        "        interaction_matrix (pd.DataFrame): A user-item interaction matrix\n",
        "                                          (rows are users, columns are items,\n",
        "                                           values are interaction strengths, e.g., ratings).\n",
        "        items_df (pd.DataFrame): A DataFrame containing item information, with\n",
        "                                 an 'item_id' column.\n",
        "        num_recommendations (int): The number of recommendations to generate.\n",
        "\n",
        "    Returns:\n",
        "        list: A list of recommended item IDs.\n",
        "    \"\"\"\n",
        "    # Find similar users based on interaction patterns\n",
        "    user_similarity = cosine_similarity(interaction_matrix)\n",
        "    user_similarity_df = pd.DataFrame(user_similarity, index=interaction_matrix.index, columns=interaction_matrix.index)\n",
        "\n",
        "    # Get the similarity scores for the target user\n",
        "    target_user_similarity = user_similarity_df.loc[user_id]\n",
        "\n",
        "    # Find top N most similar users (excluding the target user)\n",
        "    most_similar_users = target_user_similarity.sort_values(ascending=False).drop(user_id).head(10).index.tolist() # Get top 10 similar users\n",
        "\n",
        "    # Get items interacted with by similar users\n",
        "    similar_users_items = interaction_matrix.loc[most_similar_users]\n",
        "\n",
        "    # Calculate a weighted score for each item based on similar users' interactions\n",
        "    # A more sophisticated approach would use similarity scores as weights\n",
        "    item_scores = similar_users_items.sum(axis=0)\n",
        "\n",
        "    # Filter out items the target user has already interacted with\n",
        "    items_interacted_by_user = interaction_matrix.loc[user_id][interaction_matrix.loc[user_id] > 0].index\n",
        "    item_scores = item_scores.drop(items_interacted_by_user, errors='ignore')\n",
        "\n",
        "    # Recommend the top items with the highest scores\n",
        "    recommended_item_ids = item_scores.sort_values(ascending=False).head(num_recommendations).index.tolist()\n",
        "\n",
        "    # You can add reasons here based on which similar users influenced the recommendation\n",
        "    # For this simple example, we'll just return the item IDs\n",
        "\n",
        "    return recommended_item_ids\n",
        "\n",
        "# --- Example Usage ---\n",
        "\n",
        "# Create a dummy user-item interaction matrix (replace with your actual data)\n",
        "data = {\n",
        "    'user_id': [1, 1, 1, 2, 2, 3, 3, 3, 3, 4, 4, 4],\n",
        "    'item_id': [101, 102, 103, 101, 104, 102, 103, 104, 105, 101, 102, 105],\n",
        "    'rating': [5, 3, 4, 4, 5, 5, 4, 3, 4, 5, 3, 5] # Example interaction strength (e.g., ratings)\n",
        "}\n",
        "interactions_df = pd.DataFrame(data)\n",
        "\n",
        "# Create a user-item matrix\n",
        "interaction_matrix = interactions_df.pivot_table(index='user_id', columns='item_id', values='rating').fillna(0)\n",
        "\n",
        "# Create a dummy items DataFrame (replace with your actual item data)\n",
        "items_data = {'item_id': [101, 102, 103, 104, 105],\n",
        "              'item_name': ['Product A', 'Product B', 'Product C', 'Product D', 'Product E']}\n",
        "items_df = pd.DataFrame(items_data)\n",
        "\n",
        "# Get recommendations for a specific user (e.g., user with ID 1)\n",
        "user_to_recommend = 1\n",
        "recommendations = get_recommendations(user_to_recommend, interaction_matrix, items_df)\n",
        "\n",
        "print(f\"Recommendations for User {user_to_recommend}:\")\n",
        "if recommendations:\n",
        "    # You would typically join with items_df to get item names and other details\n",
        "    recommended_items_info = items_df[items_df['item_id'].isin(recommendations)]\n",
        "    print(recommended_items_info)\n",
        "    # Add explanations based on similar users or item features in a real system\n",
        "    print(\"\\n(Explanation: Recommendations are based on the preferences of users similar to you.)\")\n",
        "else:\n",
        "    print(\"No recommendations found.\")"
      ],
      "execution_count": 5,
      "outputs": [
        {
          "output_type": "stream",
          "name": "stdout",
          "text": [
            "Recommendations for User 1:\n",
            "   item_id  item_name\n",
            "3      104  Product D\n",
            "4      105  Product E\n",
            "\n",
            "(Explanation: Recommendations are based on the preferences of users similar to you.)\n"
          ]
        }
      ]
    },
    {
      "cell_type": "code",
      "source": [
        "Task Description #6 (Transparent Code Generation)\n",
        "Task: Ask AI to generate a Python function for calculating factorial\n",
        "using recursion.\n",
        "Prompt:\n",
        "\"Generate a recursive factorial function with comments that explain\n",
        "each line and a final summary of the algorithm’s flow.\"\n",
        "Expected Output:\n",
        "• Fully commented code.\n",
        "• Clear documentation of how recursion works.\n"
      ],
      "metadata": {
        "id": "-J8zjQl63q4f"
      },
      "execution_count": null,
      "outputs": []
    },
    {
      "cell_type": "code",
      "metadata": {
        "id": "a90be3db"
      },
      "source": [
        "def recursive_factorial(n):\n",
        "    \"\"\"\n",
        "    Calculates the factorial of a non-negative integer using recursion.\n",
        "\n",
        "    Factorial of a non-negative integer n, denoted by n!, is the product\n",
        "    of all positive integers less than or equal to n.\n",
        "    The factorial of 0 is defined as 1.\n",
        "\n",
        "    Recursion works by breaking down the problem into smaller, similar subproblems.\n",
        "    The base case is when n is 0 or 1, where the factorial is defined as 1.\n",
        "    For n > 1, the factorial of n is calculated as n multiplied by the factorial of (n-1).\n",
        "    This process continues until the base case is reached.\n",
        "\n",
        "    Args:\n",
        "        n (int): A non-negative integer.\n",
        "\n",
        "    Returns:\n",
        "        int: The factorial of n.\n",
        "\n",
        "    Raises:\n",
        "        ValueError: If the input is a negative integer.\n",
        "    \"\"\"\n",
        "    # Base case: Factorial of 0 or 1 is 1\n",
        "    if n == 0 or n == 1:\n",
        "        return 1\n",
        "    # Recursive case: Factorial of n is n * factorial(n-1)\n",
        "    elif n > 1:\n",
        "        return n * recursive_factorial(n - 1)\n",
        "    # Handle negative input\n",
        "    else:\n",
        "        raise ValueError(\"Factorial is not defined for negative numbers\")\n",
        "\n",
        "# Example usage:\n",
        "# print(recursive_factorial(5))  # Output: 120\n",
        "# print(recursive_factorial(0))  # Output: 1\n",
        "# print(recursive_factorial(1))  # Output: 1\n",
        "# try:\n",
        "#     print(recursive_factorial(-1))\n",
        "# except ValueError as e:\n",
        "#     print(e) # Output: Factorial is not defined for negative numbers"
      ],
      "execution_count": 6,
      "outputs": []
    },
    {
      "cell_type": "code",
      "source": [
        "Task Description #7 (Inclusiveness in Customer Support)\n",
        "Code Snippet:\n",
        "Task:\n",
        "Regenerate the code so that support messages use neutral language (e.g.,\n",
        "“Dear {name}”) and optionally accept preferred titles.\n",
        "Expected Output:\n",
        "• Neutral, user-friendly support responses.\n"
      ],
      "metadata": {
        "id": "MnjUvofu4XgK"
      },
      "execution_count": null,
      "outputs": []
    },
    {
      "cell_type": "code",
      "metadata": {
        "id": "6be431d2"
      },
      "source": [
        "def generate_support_message(name, message_content, title=None):\n",
        "    \"\"\"\n",
        "    Generates a customer support message using neutral language.\n",
        "\n",
        "    Args:\n",
        "        name (str): The name of the recipient.\n",
        "        message_content (str): The main content of the support message.\n",
        "        title (str, optional): An optional preferred title (e.g., \"Dr.\", \"Mx.\").\n",
        "                                If None, no title is used.\n",
        "\n",
        "    Returns:\n",
        "        str: The formatted support message.\n",
        "    \"\"\"\n",
        "    if title:\n",
        "        greeting = f\"Dear {title} {name},\"\n",
        "    else:\n",
        "        greeting = f\"Dear {name},\"\n",
        "\n",
        "    full_message = f\"{greeting}\\n\\n{message_content}\\n\\nSincerely,\\nCustomer Support Team\"\n",
        "\n",
        "    return full_message\n",
        "\n",
        "# Example usage:\n",
        "# print(generate_support_message(\"Alex Smith\", \"Thank you for contacting support. We are looking into your issue.\"))\n",
        "# print(\"\\n---\\n\") # Separator\n",
        "# print(generate_support_message(\"Jamie Lee\", \"Regarding your recent inquiry...\", title=\"Mx.\"))"
      ],
      "execution_count": 7,
      "outputs": []
    }
  ]
}